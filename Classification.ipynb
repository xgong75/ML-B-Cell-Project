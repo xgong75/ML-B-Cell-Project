{
 "cells": [
  {
   "cell_type": "code",
   "execution_count": 76,
   "metadata": {
    "executionInfo": {
     "elapsed": 15035,
     "status": "ok",
     "timestamp": 1733005823196,
     "user": {
      "displayName": "Xingyu Gong",
      "userId": "09190398267093723546"
     },
     "user_tz": 300
    },
    "id": "WbJA06HTo7A-"
   },
   "outputs": [],
   "source": [
    "import pandas as pd\n",
    "import os\n",
    "import torch\n",
    "import torch.nn as nn\n",
    "import torch.nn.functional as F\n",
    "from sklearn.model_selection import train_test_split\n",
    "from torch.utils.data import DataLoader\n",
    "from torch.utils.data import ConcatDataset\n",
    "from sklearn.preprocessing import StandardScaler\n",
    "from torch.utils.data import Dataset, DataLoader\n",
    "from sklearn.decomposition import PCA"
   ]
  },
  {
   "cell_type": "markdown",
   "metadata": {
    "id": "fbONoaYSpac6"
   },
   "source": [
    "# Load Data"
   ]
  },
  {
   "cell_type": "code",
   "execution_count": 77,
   "metadata": {},
   "outputs": [
    {
     "name": "stdout",
     "output_type": "stream",
     "text": [
      "(14387, 1024)\n"
     ]
    }
   ],
   "source": [
    "# Load the original data\n",
    "file_path = \"final_chosen_embeddings.csv\"\n",
    "embeddings_df = pd.read_csv(file_path)\n",
    "print(embeddings_df.shape)\n",
    "embeddings_df = embeddings_df.apply(pd.to_numeric, errors='coerce')\n"
   ]
  },
  {
   "cell_type": "code",
   "execution_count": 78,
   "metadata": {},
   "outputs": [
    {
     "data": {
      "text/html": [
       "<div>\n",
       "<style scoped>\n",
       "    .dataframe tbody tr th:only-of-type {\n",
       "        vertical-align: middle;\n",
       "    }\n",
       "\n",
       "    .dataframe tbody tr th {\n",
       "        vertical-align: top;\n",
       "    }\n",
       "\n",
       "    .dataframe thead th {\n",
       "        text-align: right;\n",
       "    }\n",
       "</style>\n",
       "<table border=\"1\" class=\"dataframe\">\n",
       "  <thead>\n",
       "    <tr style=\"text-align: right;\">\n",
       "      <th></th>\n",
       "      <th>0</th>\n",
       "      <th>1</th>\n",
       "      <th>2</th>\n",
       "      <th>3</th>\n",
       "      <th>4</th>\n",
       "      <th>5</th>\n",
       "      <th>6</th>\n",
       "      <th>7</th>\n",
       "      <th>8</th>\n",
       "      <th>9</th>\n",
       "      <th>...</th>\n",
       "      <th>1014</th>\n",
       "      <th>1015</th>\n",
       "      <th>1016</th>\n",
       "      <th>1017</th>\n",
       "      <th>1018</th>\n",
       "      <th>1019</th>\n",
       "      <th>1020</th>\n",
       "      <th>1021</th>\n",
       "      <th>1022</th>\n",
       "      <th>1023</th>\n",
       "    </tr>\n",
       "  </thead>\n",
       "  <tbody>\n",
       "    <tr>\n",
       "      <th>0</th>\n",
       "      <td>0.097502</td>\n",
       "      <td>0.041157</td>\n",
       "      <td>0.015847</td>\n",
       "      <td>-0.116904</td>\n",
       "      <td>0.104728</td>\n",
       "      <td>-0.032803</td>\n",
       "      <td>-0.052221</td>\n",
       "      <td>0.008763</td>\n",
       "      <td>-0.063743</td>\n",
       "      <td>-0.077305</td>\n",
       "      <td>...</td>\n",
       "      <td>-0.048663</td>\n",
       "      <td>0.011981</td>\n",
       "      <td>-0.134694</td>\n",
       "      <td>-0.069441</td>\n",
       "      <td>0.057752</td>\n",
       "      <td>-0.039609</td>\n",
       "      <td>-0.067868</td>\n",
       "      <td>0.020727</td>\n",
       "      <td>-0.009816</td>\n",
       "      <td>0.051319</td>\n",
       "    </tr>\n",
       "    <tr>\n",
       "      <th>1</th>\n",
       "      <td>0.087380</td>\n",
       "      <td>0.077887</td>\n",
       "      <td>0.000883</td>\n",
       "      <td>-0.055398</td>\n",
       "      <td>0.136644</td>\n",
       "      <td>0.014458</td>\n",
       "      <td>-0.156743</td>\n",
       "      <td>-0.022596</td>\n",
       "      <td>-0.039086</td>\n",
       "      <td>-0.133126</td>\n",
       "      <td>...</td>\n",
       "      <td>-0.053697</td>\n",
       "      <td>-0.050823</td>\n",
       "      <td>-0.090344</td>\n",
       "      <td>-0.106265</td>\n",
       "      <td>0.060197</td>\n",
       "      <td>-0.055505</td>\n",
       "      <td>-0.101654</td>\n",
       "      <td>0.002984</td>\n",
       "      <td>0.004396</td>\n",
       "      <td>0.119960</td>\n",
       "    </tr>\n",
       "    <tr>\n",
       "      <th>2</th>\n",
       "      <td>0.081449</td>\n",
       "      <td>0.064213</td>\n",
       "      <td>0.031846</td>\n",
       "      <td>-0.101599</td>\n",
       "      <td>0.114083</td>\n",
       "      <td>-0.010752</td>\n",
       "      <td>-0.076092</td>\n",
       "      <td>0.022347</td>\n",
       "      <td>-0.052153</td>\n",
       "      <td>-0.050759</td>\n",
       "      <td>...</td>\n",
       "      <td>-0.004997</td>\n",
       "      <td>-0.022449</td>\n",
       "      <td>-0.071919</td>\n",
       "      <td>-0.095955</td>\n",
       "      <td>0.071172</td>\n",
       "      <td>-0.074921</td>\n",
       "      <td>-0.079598</td>\n",
       "      <td>0.026687</td>\n",
       "      <td>-0.058923</td>\n",
       "      <td>0.085925</td>\n",
       "    </tr>\n",
       "    <tr>\n",
       "      <th>3</th>\n",
       "      <td>0.054779</td>\n",
       "      <td>0.087883</td>\n",
       "      <td>0.050499</td>\n",
       "      <td>-0.128000</td>\n",
       "      <td>0.137137</td>\n",
       "      <td>-0.040081</td>\n",
       "      <td>-0.113433</td>\n",
       "      <td>-0.017044</td>\n",
       "      <td>-0.008265</td>\n",
       "      <td>-0.125296</td>\n",
       "      <td>...</td>\n",
       "      <td>-0.023547</td>\n",
       "      <td>-0.044238</td>\n",
       "      <td>-0.086095</td>\n",
       "      <td>-0.134322</td>\n",
       "      <td>0.049108</td>\n",
       "      <td>-0.037854</td>\n",
       "      <td>-0.021380</td>\n",
       "      <td>-0.005630</td>\n",
       "      <td>-0.004228</td>\n",
       "      <td>0.070353</td>\n",
       "    </tr>\n",
       "    <tr>\n",
       "      <th>4</th>\n",
       "      <td>0.073225</td>\n",
       "      <td>0.100251</td>\n",
       "      <td>-0.008033</td>\n",
       "      <td>-0.054263</td>\n",
       "      <td>0.141893</td>\n",
       "      <td>0.003107</td>\n",
       "      <td>-0.105862</td>\n",
       "      <td>-0.010538</td>\n",
       "      <td>-0.036693</td>\n",
       "      <td>-0.118309</td>\n",
       "      <td>...</td>\n",
       "      <td>0.000012</td>\n",
       "      <td>-0.008275</td>\n",
       "      <td>-0.094060</td>\n",
       "      <td>-0.072182</td>\n",
       "      <td>0.018819</td>\n",
       "      <td>-0.020401</td>\n",
       "      <td>-0.046540</td>\n",
       "      <td>0.025473</td>\n",
       "      <td>-0.015419</td>\n",
       "      <td>0.092573</td>\n",
       "    </tr>\n",
       "  </tbody>\n",
       "</table>\n",
       "<p>5 rows × 1024 columns</p>\n",
       "</div>"
      ],
      "text/plain": [
       "          0         1         2         3         4         5         6  \\\n",
       "0  0.097502  0.041157  0.015847 -0.116904  0.104728 -0.032803 -0.052221   \n",
       "1  0.087380  0.077887  0.000883 -0.055398  0.136644  0.014458 -0.156743   \n",
       "2  0.081449  0.064213  0.031846 -0.101599  0.114083 -0.010752 -0.076092   \n",
       "3  0.054779  0.087883  0.050499 -0.128000  0.137137 -0.040081 -0.113433   \n",
       "4  0.073225  0.100251 -0.008033 -0.054263  0.141893  0.003107 -0.105862   \n",
       "\n",
       "          7         8         9  ...      1014      1015      1016      1017  \\\n",
       "0  0.008763 -0.063743 -0.077305  ... -0.048663  0.011981 -0.134694 -0.069441   \n",
       "1 -0.022596 -0.039086 -0.133126  ... -0.053697 -0.050823 -0.090344 -0.106265   \n",
       "2  0.022347 -0.052153 -0.050759  ... -0.004997 -0.022449 -0.071919 -0.095955   \n",
       "3 -0.017044 -0.008265 -0.125296  ... -0.023547 -0.044238 -0.086095 -0.134322   \n",
       "4 -0.010538 -0.036693 -0.118309  ...  0.000012 -0.008275 -0.094060 -0.072182   \n",
       "\n",
       "       1018      1019      1020      1021      1022      1023  \n",
       "0  0.057752 -0.039609 -0.067868  0.020727 -0.009816  0.051319  \n",
       "1  0.060197 -0.055505 -0.101654  0.002984  0.004396  0.119960  \n",
       "2  0.071172 -0.074921 -0.079598  0.026687 -0.058923  0.085925  \n",
       "3  0.049108 -0.037854 -0.021380 -0.005630 -0.004228  0.070353  \n",
       "4  0.018819 -0.020401 -0.046540  0.025473 -0.015419  0.092573  \n",
       "\n",
       "[5 rows x 1024 columns]"
      ]
     },
     "execution_count": 78,
     "metadata": {},
     "output_type": "execute_result"
    }
   ],
   "source": [
    "embeddings_df.head()"
   ]
  },
  {
   "cell_type": "markdown",
   "metadata": {
    "id": "pnO1sywpqDg_"
   },
   "source": [
    "Too many covariates in the data frame now, to allow interpretability and reduce overfitting, we do PCA here to reduce dimension"
   ]
  },
  {
   "cell_type": "code",
   "execution_count": 40,
   "metadata": {
    "colab": {
     "base_uri": "https://localhost:8080/",
     "height": 579
    },
    "executionInfo": {
     "elapsed": 9654,
     "status": "ok",
     "timestamp": 1733005886894,
     "user": {
      "displayName": "Xingyu Gong",
      "userId": "09190398267093723546"
     },
     "user_tz": 300
    },
    "id": "H443u4k1qCiv",
    "outputId": "2f3564cb-166e-414d-b5a9-038eb3aa2536"
   },
   "outputs": [
    {
     "data": {
      "image/png": "[encoded data removed]",
      "text/plain": [
       "<Figure size 800x600 with 1 Axes>"
      ]
     },
     "metadata": {},
     "output_type": "display_data"
    }
   ],
   "source": [
    "import matplotlib.pyplot as plt\n",
    "from sklearn.decomposition import PCA\n",
    "import pandas as pd\n",
    "\n",
    "# Assuming embedding_df is already loaded and contains the data to be reduced\n",
    "# Calculate PCA for different number of components\n",
    "explained_variance = []\n",
    "components_range = [1, 10, 50, 100, 1000]\n",
    "reduced_embeddings = {}  # Store reduced embeddings for each PCA configuration\n",
    "\n",
    "for n in components_range:\n",
    "    pca = PCA(n_components=n)\n",
    "    reduced_data = pca.fit_transform(embeddings_df)  # Transform data\n",
    "    reduced_embeddings[n] = reduced_data  # Store reduced embeddings\n",
    "    explained_variance.append(sum(pca.explained_variance_ratio_))\n",
    "\n",
    "# Plot the variance explained for different number of components\n",
    "plt.figure(figsize=(8, 6))\n",
    "plt.plot(components_range, explained_variance, marker='o')\n",
    "plt.title('Variance Explained by Different Number of PCA Components')\n",
    "plt.xlabel('Number of Components')\n",
    "plt.ylabel('Cumulative Explained Variance')\n",
    "plt.grid(True)\n",
    "plt.show()\n"
   ]
  },
  {
   "cell_type": "code",
   "execution_count": 41,
   "metadata": {},
   "outputs": [
    {
     "data": {
      "text/plain": [
       "[np.float64(0.18336436296599165),\n",
       " np.float64(0.6641738025112166),\n",
       " np.float64(0.9236476555832881),\n",
       " np.float64(0.9577021595381022),\n",
       " np.float64(0.9999497706267522)]"
      ]
     },
     "execution_count": 41,
     "metadata": {},
     "output_type": "execute_result"
    }
   ],
   "source": [
    "explained_variance #(0.9236476555832881) FOR 50"
   ]
  },
  {
   "cell_type": "code",
   "execution_count": 79,
   "metadata": {
    "colab": {
     "base_uri": "https://localhost:8080/"
    },
    "executionInfo": {
     "elapsed": 1261,
     "status": "ok",
     "timestamp": 1733005888154,
     "user": {
      "displayName": "Xingyu Gong",
      "userId": "09190398267093723546"
     },
     "user_tz": 300
    },
    "id": "iilX9sHtri-1",
    "outputId": "c3e87130-7cf4-49ad-a557-6e0f68b65240"
   },
   "outputs": [
    {
     "name": "stdout",
     "output_type": "stream",
     "text": [
      "          0         1         2         3         4         5         6  \\\n",
      "0  0.130986 -0.841194  0.244296 -0.327157  0.358919  0.416627 -0.046346   \n",
      "1  0.386893 -0.968927 -0.258601  0.560947  0.127285  0.560037  0.220887   \n",
      "2 -0.368636 -0.521758  0.266631  0.111659  0.485981 -0.048439 -0.167204   \n",
      "3  0.583055 -0.633835 -0.460227  0.090961  0.320210  0.568618  0.102708   \n",
      "4  0.509345 -0.685261 -0.216036  0.102097  0.004009  0.253212 -0.054365   \n",
      "\n",
      "          7         8         9  ...        49  chou_fasman     emini  \\\n",
      "0 -0.101677  0.082235 -0.362470  ...  0.045556     0.170670 -0.219985   \n",
      "1  0.292103  0.146383 -0.382259  ...  0.026651    -1.800991 -0.543068   \n",
      "2  0.300192 -0.177946 -0.067067  ... -0.063127    -1.143771  1.459553   \n",
      "3  0.237914  0.136653 -0.027776  ... -0.085042     3.328533  0.917587   \n",
      "4  0.069683 -0.145268 -0.114928  ... -0.075505     1.757616  0.522983   \n",
      "\n",
      "   kolaskar_tongaonkar    parker  isoelectric_point  aromaticity  \\\n",
      "0            -0.059261  0.230006          -0.665615     1.069128   \n",
      "1             3.304900 -2.857986          -0.453551    -0.397825   \n",
      "2            -1.137279  1.276267           0.612327     0.623313   \n",
      "3            -1.583356  2.312370          -1.498164    -1.201194   \n",
      "4            -1.564769  1.459109          -0.105885     1.091312   \n",
      "\n",
      "   hydrophobicity  stability  target  \n",
      "0        0.664635  -0.205650       1  \n",
      "1        0.935600  -1.121306       1  \n",
      "2        3.257246  -0.949573       1  \n",
      "3       -0.292182  -0.775608       1  \n",
      "4       -0.437779  -1.319960       1  \n",
      "\n",
      "[5 rows x 59 columns]\n"
     ]
    }
   ],
   "source": [
    "import pandas as pd\n",
    "from sklearn.decomposition import PCA\n",
    "from sklearn.preprocessing import StandardScaler\n",
    "\n",
    "# Load the original data\n",
    "file_path = \"input_bcell.csv\"\n",
    "original_df = pd.read_csv(file_path)\n",
    "original_df.shape\n",
    "\n",
    "# Extract the covariates (all columns between 5th and second-to-last)\n",
    "covariates = original_df.iloc[:, 5:-1].values\n",
    "\n",
    "# Scale the covariates using StandardScaler\n",
    "scaler = StandardScaler()\n",
    "scaled_covariates = scaler.fit_transform(covariates)\n",
    "\n",
    "# Convert the scaled covariates to a DataFrame\n",
    "scaled_covariates_df = pd.DataFrame(scaled_covariates, columns=original_df.columns[5:-1])\n",
    "\n",
    "# Assuming embedding_df is already loaded and needs to be reduced to 2D\n",
    "# Perform PCA to reduce embedding_df to 2 dimensions\n",
    "pca = PCA(n_components=50)\n",
    "embedding_2d = pca.fit_transform(embeddings_df)\n",
    "\n",
    "# Convert the 2D embedding to a DataFrame\n",
    "scaled_embedding_2d = pd.DataFrame(embedding_2d)\n",
    "\n",
    "# Concatenate the 2D embeddings with the scaled covariates\n",
    "combined_df = pd.concat([scaled_embedding_2d, scaled_covariates_df], axis=1)\n",
    "\n",
    "# extract label\n",
    "label = original_df[\"target\"]\n",
    "combined_df[\"target\"]=label\n",
    "\n",
    "# Display the first few rows of the resulting DataFrame\n",
    "print(combined_df.head())\n"
   ]
  },
  {
   "cell_type": "markdown",
   "metadata": {},
   "source": [
    "## deal with class imbalance"
   ]
  },
  {
   "cell_type": "code",
   "execution_count": 96,
   "metadata": {},
   "outputs": [
    {
     "name": "stdout",
     "output_type": "stream",
     "text": [
      "\n",
      "Class distribution after downsampling:\n",
      "target\n",
      "1    3902\n",
      "0    3902\n",
      "Name: count, dtype: int64\n"
     ]
    }
   ],
   "source": [
    "from sklearn.utils import resample\n",
    "\n",
    "# Separate majority and minority classes\n",
    "majority_class = combined_df[combined_df[\"target\"] == combined_df[\"target\"].value_counts().idxmax()]\n",
    "minority_class = combined_df[combined_df[\"target\"] == combined_df[\"target\"].value_counts().idxmin()]\n",
    "\n",
    "# Downsample majority class\n",
    "majority_downsampled = resample(majority_class,\n",
    "                                 replace=False,  # Sample without replacement\n",
    "                                 n_samples=len(minority_class),  # Match the minority class size\n",
    "                                 random_state=42)  # For reproducibility\n",
    "\n",
    "# Combine minority class with downsampled majority class\n",
    "balanced_df = pd.concat([majority_downsampled, minority_class])\n",
    "\n",
    "# Shuffle the combined dataset\n",
    "balanced_df = balanced_df.sample(frac=1, random_state=42).reset_index(drop=True)\n",
    "\n",
    "# Check class distribution after downsampling\n",
    "print(\"\\nClass distribution after downsampling:\")\n",
    "print(balanced_df[\"target\"].value_counts())\n"
   ]
  },
  {
   "cell_type": "code",
   "execution_count": 97,
   "metadata": {
    "executionInfo": {
     "elapsed": 328,
     "status": "ok",
     "timestamp": 1733005891588,
     "user": {
      "displayName": "Xingyu Gong",
      "userId": "09190398267093723546"
     },
     "user_tz": 300
    },
    "id": "fCr_8xCcMk5U"
   },
   "outputs": [],
   "source": [
    "balanced_df.to_csv('PCA_df.csv', index=False)"
   ]
  },
  {
   "cell_type": "code",
   "execution_count": 99,
   "metadata": {},
   "outputs": [
    {
     "data": {
      "image/png": "[encoded data removed]",
      "text/plain": [
       "<Figure size 1200x1000 with 2 Axes>"
      ]
     },
     "metadata": {},
     "output_type": "display_data"
    }
   ],
   "source": [
    "import seaborn as sns\n",
    "import matplotlib.pyplot as plt\n",
    "\n",
    "# Plot a heatmap of the correlation matrix\n",
    "plt.figure(figsize=(12, 10))\n",
    "sns.heatmap(balanced_df.corr(), annot=False, cmap=\"coolwarm\", vmin=-1, vmax=1)\n",
    "plt.title(\"Feature Correlation Matrix\")\n",
    "plt.show()\n"
   ]
  },
  {
   "cell_type": "markdown",
   "metadata": {
    "id": "fnvxlB83usjB"
   },
   "source": [
    "## Test and Compare Classification Methods - given large amount of features, we use shallower and less trees to prevent overfitting"
   ]
  },
  {
   "cell_type": "code",
   "execution_count": 100,
   "metadata": {
    "colab": {
     "base_uri": "https://localhost:8080/"
    },
    "executionInfo": {
     "elapsed": 137382,
     "status": "ok",
     "timestamp": 1733008721075,
     "user": {
      "displayName": "Xingyu Gong",
      "userId": "09190398267093723546"
     },
     "user_tz": 300
    },
    "id": "9esbcxaeuv2u",
    "outputId": "59a157f8-45d4-48db-e901-bc1ae5e124a3"
   },
   "outputs": [
    {
     "name": "stderr",
     "output_type": "stream",
     "text": [
      "/Users/xingyugong/.julia/conda/3/aarch64/lib/python3.10/site-packages/sklearn/model_selection/_validation.py:540: FitFailedWarning: \n",
      "180 fits failed out of a total of 720.\n",
      "The score on these train-test partitions for these parameters will be set to nan.\n",
      "If these failures are not expected, you can try to debug them by setting error_score='raise'.\n",
      "\n",
      "Below are more details about the failures:\n",
      "--------------------------------------------------------------------------------\n",
      "180 fits failed with the following error:\n",
      "Traceback (most recent call last):\n",
      "  File \"/Users/xingyugong/.julia/conda/3/aarch64/lib/python3.10/site-packages/sklearn/model_selection/_validation.py\", line 888, in _fit_and_score\n",
      "    estimator.fit(X_train, y_train, **fit_params)\n",
      "  File \"/Users/xingyugong/.julia/conda/3/aarch64/lib/python3.10/site-packages/sklearn/base.py\", line 1466, in wrapper\n",
      "    estimator._validate_params()\n",
      "  File \"/Users/xingyugong/.julia/conda/3/aarch64/lib/python3.10/site-packages/sklearn/base.py\", line 666, in _validate_params\n",
      "    validate_parameter_constraints(\n",
      "  File \"/Users/xingyugong/.julia/conda/3/aarch64/lib/python3.10/site-packages/sklearn/utils/_param_validation.py\", line 95, in validate_parameter_constraints\n",
      "    raise InvalidParameterError(\n",
      "sklearn.utils._param_validation.InvalidParameterError: The 'n_estimators' parameter of RandomForestClassifier must be an int in the range [1, inf). Got None instead.\n",
      "\n",
      "  warnings.warn(some_fits_failed_message, FitFailedWarning)\n",
      "/Users/xingyugong/.julia/conda/3/aarch64/lib/python3.10/site-packages/numpy/ma/core.py:2881: RuntimeWarning: invalid value encountered in cast\n",
      "  _data = np.array(data, dtype=dtype, copy=copy,\n",
      "/Users/xingyugong/.julia/conda/3/aarch64/lib/python3.10/site-packages/sklearn/model_selection/_search.py:1103: UserWarning: One or more of the test scores are non-finite: [0.67851987 0.69422217 0.69790319        nan 0.67836192 0.69934486\n",
      " 0.70719229        nan 0.68604537 0.70078948 0.70318806        nan\n",
      " 0.67627358 0.69053307 0.70639358        nan 0.67819871 0.69005589\n",
      " 0.7091146         nan 0.68909371 0.68445089 0.70334883        nan\n",
      " 0.66490346 0.6892514  0.70062666        nan 0.67259282 0.6967823\n",
      " 0.69678101        nan 0.67259089 0.68476692 0.70367204        nan\n",
      " 0.70430832 0.72096716 0.73778805        nan 0.70446755 0.7192069\n",
      " 0.73826869        nan 0.69421589 0.71920588 0.73442292        nan\n",
      " 0.69998281 0.72193049 0.73506279        nan 0.69758345 0.72320934\n",
      " 0.72449177        nan 0.69581832 0.71984985 0.7365051         nan\n",
      " 0.69053705 0.70831422 0.71600421        nan 0.69533434 0.70527127\n",
      " 0.71328037        nan 0.69502102 0.70206794 0.71471947        nan\n",
      " 0.70078704 0.72272972 0.74211241        nan 0.69533499 0.728336\n",
      " 0.74051138        nan 0.70158999 0.72320921 0.74275382        nan\n",
      " 0.7004637  0.72353511 0.74018869        nan 0.6895732  0.71888921\n",
      " 0.74115408        nan 0.69533819 0.71760511 0.74243125        nan\n",
      " 0.68781115 0.69886358 0.71456268        nan 0.68476435 0.70094742\n",
      " 0.71407947        nan 0.70254986 0.70494986 0.71552229        nan\n",
      " 0.70350909 0.71952921 0.74291549        nan 0.69917999 0.72048908\n",
      " 0.73634549        nan 0.70895781 0.72721639 0.73698728        nan\n",
      " 0.70270717 0.72753895 0.73266357        nan 0.69838473 0.72609177\n",
      " 0.74163151        nan 0.70159089 0.72481639 0.73634523        nan\n",
      " 0.69822486 0.70623332 0.71840691        nan 0.68909102 0.70254575\n",
      " 0.72257024        nan 0.68893256 0.70495178 0.71375896        nan]\n",
      "  warnings.warn(\n"
     ]
    },
    {
     "name": "stdout",
     "output_type": "stream",
     "text": [
      "             Classifier                               Best Hyperparameters  \\\n",
      "0  CART (Decision Tree)  {'max_depth': 10, 'min_samples_leaf': 50, 'min...   \n",
      "1         Random Forest  {'max_depth': None, 'min_samples_leaf': 5, 'mi...   \n",
      "2               XGBoost  {'learning_rate': 0.1, 'max_depth': 10, 'n_est...   \n",
      "3   Logistic Regression  {'C': 10, 'penalty': 'l2', 'solver': 'liblinear'}   \n",
      "\n",
      "   Accuracy  Precision    Recall  F1-Score       AUC          Confusion Matrix  \n",
      "0  0.756566   0.763291  0.757538  0.760404  0.824931  [[578, 187], [193, 603]]  \n",
      "1  0.748879   0.748768  0.763819  0.756219  0.827006  [[561, 204], [188, 608]]  \n",
      "2  0.800769   0.800496  0.811558  0.805989  0.876812  [[604, 161], [150, 646]]  \n",
      "3  0.605381   0.616580  0.597990  0.607143  0.643047  [[469, 296], [320, 476]]  \n"
     ]
    }
   ],
   "source": [
    "import pandas as pd\n",
    "from sklearn.model_selection import train_test_split, GridSearchCV\n",
    "from sklearn.preprocessing import StandardScaler\n",
    "from sklearn.tree import DecisionTreeClassifier  # CART\n",
    "from sklearn.ensemble import RandomForestClassifier\n",
    "from sklearn.neural_network import MLPClassifier  # Neural Network\n",
    "from sklearn.linear_model import LogisticRegression  # Logistic Regression\n",
    "from sklearn.metrics import accuracy_score, precision_score, recall_score, f1_score, confusion_matrix, roc_auc_score\n",
    "import xgboost as xgb\n",
    "\n",
    "# Split features (X) and target (y)\n",
    "balanced_df.columns = balanced_df.columns.astype(str)\n",
    "X = balanced_df.drop(columns=['target'])\n",
    "y = balanced_df['target']\n",
    "\n",
    "# Split the data into training and test sets (80% train, 20% test)\n",
    "X_train, X_test, y_train, y_test = train_test_split(X, y, test_size=0.2, random_state=42)\n",
    "\n",
    "# Define the classifiers and their respective hyperparameter grids\n",
    "classifiers = {\n",
    "    'CART (Decision Tree)': {\n",
    "        'model': DecisionTreeClassifier(),\n",
    "        'param_grid': {\n",
    "            'max_depth': [5, 10, 20, None],  # Reduced range\n",
    "            'min_samples_split': [5, 10, 20],  # Simplified\n",
    "            'min_samples_leaf': [5, 10, 50]  # Removed larger values\n",
    "        }\n",
    "    },\n",
    "    'Random Forest': {\n",
    "        'model': RandomForestClassifier(),\n",
    "        'param_grid': {\n",
    "            'n_estimators': [10, 20, 50, None],  # Focus on fewer trees\n",
    "            'max_depth': [5, 10, 20, None],  # Reduced depth range\n",
    "            'min_samples_split': [5, 10, 20],  # Simplified\n",
    "            'min_samples_leaf': [5, 10, 50]  # Removed larger values\n",
    "        }\n",
    "    },\n",
    "    'XGBoost': {\n",
    "        'model': xgb.XGBClassifier(eval_metric='mlogloss'),\n",
    "        'param_grid': {\n",
    "            'n_estimators': [20, 50, 100, None],  # Reduced\n",
    "            'max_depth': [3, 5, 10, None],  # Focus on smaller depths for interpretability\n",
    "            'learning_rate': [0.001, 0.01, 0.1]  # Removed extreme values\n",
    "        }\n",
    "    },\n",
    "    'Logistic Regression': {\n",
    "        'model': LogisticRegression(max_iter=500),\n",
    "        'param_grid': {\n",
    "            'C': [0.1, 1, 10],  # Kept the same\n",
    "            'solver': ['liblinear'],  # Removed 'saga' for simplicity\n",
    "            'penalty': ['l2']  # Kept the same\n",
    "        }\n",
    "    }\n",
    "}\n",
    "\n",
    "# Store results\n",
    "results = []\n",
    "\n",
    "# Perform GridSearchCV for each classifier\n",
    "for clf_name, clf_info in classifiers.items():\n",
    "    model = clf_info['model']\n",
    "    param_grid = clf_info['param_grid']\n",
    "\n",
    "    # Perform grid search to find the best hyperparameters\n",
    "    grid_search = GridSearchCV(model, param_grid, cv=5, scoring='accuracy', n_jobs=-1)\n",
    "    grid_search.fit(X_train, y_train)\n",
    "\n",
    "    # Get the best model from the grid search\n",
    "    best_model = grid_search.best_estimator_\n",
    "\n",
    "    # Make predictions using the best model\n",
    "    y_pred = best_model.predict(X_test)\n",
    "    y_prob = best_model.predict_proba(X_test)[:, 1]  # Get predicted probabilities for AUC calculation (for binary classification)\n",
    "\n",
    "    # Calculate metrics\n",
    "    accuracy = accuracy_score(y_test, y_pred)\n",
    "    precision = precision_score(y_test, y_pred)\n",
    "    recall = recall_score(y_test, y_pred)\n",
    "    f1 = f1_score(y_test, y_pred)\n",
    "    cm = confusion_matrix(y_test, y_pred)\n",
    "    auc = roc_auc_score(y_test, y_prob)  # Calculate AUC\n",
    "\n",
    "    # Store the results\n",
    "    results.append({\n",
    "        'Classifier': clf_name,\n",
    "        'Best Hyperparameters': grid_search.best_params_,\n",
    "        'Accuracy': accuracy,\n",
    "        'Precision': precision,\n",
    "        'Recall': recall,\n",
    "        'F1-Score': f1,\n",
    "        'AUC': auc,\n",
    "        'Confusion Matrix': cm\n",
    "    })\n",
    "\n",
    "# Convert results to a DataFrame\n",
    "results_df = pd.DataFrame(results)\n",
    "\n",
    "# Print the results\n",
    "print(results_df)"
   ]
  },
  {
   "cell_type": "code",
   "execution_count": 101,
   "metadata": {
    "colab": {
     "base_uri": "https://localhost:8080/",
     "height": 175
    },
    "executionInfo": {
     "elapsed": 136,
     "status": "ok",
     "timestamp": 1733008770634,
     "user": {
      "displayName": "Xingyu Gong",
      "userId": "09190398267093723546"
     },
     "user_tz": 300
    },
    "id": "Wlqi1ZpSX0AS",
    "outputId": "5f1e28f4-fd21-4a25-8525-5e5f125d8aa4"
   },
   "outputs": [
    {
     "data": {
      "text/html": [
       "<div>\n",
       "<style scoped>\n",
       "    .dataframe tbody tr th:only-of-type {\n",
       "        vertical-align: middle;\n",
       "    }\n",
       "\n",
       "    .dataframe tbody tr th {\n",
       "        vertical-align: top;\n",
       "    }\n",
       "\n",
       "    .dataframe thead th {\n",
       "        text-align: right;\n",
       "    }\n",
       "</style>\n",
       "<table border=\"1\" class=\"dataframe\">\n",
       "  <thead>\n",
       "    <tr style=\"text-align: right;\">\n",
       "      <th></th>\n",
       "      <th>Classifier</th>\n",
       "      <th>Best Hyperparameters</th>\n",
       "      <th>Accuracy</th>\n",
       "      <th>Precision</th>\n",
       "      <th>Recall</th>\n",
       "      <th>F1-Score</th>\n",
       "      <th>AUC</th>\n",
       "      <th>Confusion Matrix</th>\n",
       "    </tr>\n",
       "  </thead>\n",
       "  <tbody>\n",
       "    <tr>\n",
       "      <th>0</th>\n",
       "      <td>CART (Decision Tree)</td>\n",
       "      <td>{'max_depth': 10, 'min_samples_leaf': 50, 'min...</td>\n",
       "      <td>0.756566</td>\n",
       "      <td>0.763291</td>\n",
       "      <td>0.757538</td>\n",
       "      <td>0.760404</td>\n",
       "      <td>0.824931</td>\n",
       "      <td>[[578, 187], [193, 603]]</td>\n",
       "    </tr>\n",
       "    <tr>\n",
       "      <th>1</th>\n",
       "      <td>Random Forest</td>\n",
       "      <td>{'max_depth': None, 'min_samples_leaf': 5, 'mi...</td>\n",
       "      <td>0.748879</td>\n",
       "      <td>0.748768</td>\n",
       "      <td>0.763819</td>\n",
       "      <td>0.756219</td>\n",
       "      <td>0.827006</td>\n",
       "      <td>[[561, 204], [188, 608]]</td>\n",
       "    </tr>\n",
       "    <tr>\n",
       "      <th>2</th>\n",
       "      <td>XGBoost</td>\n",
       "      <td>{'learning_rate': 0.1, 'max_depth': 10, 'n_est...</td>\n",
       "      <td>0.800769</td>\n",
       "      <td>0.800496</td>\n",
       "      <td>0.811558</td>\n",
       "      <td>0.805989</td>\n",
       "      <td>0.876812</td>\n",
       "      <td>[[604, 161], [150, 646]]</td>\n",
       "    </tr>\n",
       "    <tr>\n",
       "      <th>3</th>\n",
       "      <td>Logistic Regression</td>\n",
       "      <td>{'C': 10, 'penalty': 'l2', 'solver': 'liblinear'}</td>\n",
       "      <td>0.605381</td>\n",
       "      <td>0.616580</td>\n",
       "      <td>0.597990</td>\n",
       "      <td>0.607143</td>\n",
       "      <td>0.643047</td>\n",
       "      <td>[[469, 296], [320, 476]]</td>\n",
       "    </tr>\n",
       "  </tbody>\n",
       "</table>\n",
       "</div>"
      ],
      "text/plain": [
       "             Classifier                               Best Hyperparameters  \\\n",
       "0  CART (Decision Tree)  {'max_depth': 10, 'min_samples_leaf': 50, 'min...   \n",
       "1         Random Forest  {'max_depth': None, 'min_samples_leaf': 5, 'mi...   \n",
       "2               XGBoost  {'learning_rate': 0.1, 'max_depth': 10, 'n_est...   \n",
       "3   Logistic Regression  {'C': 10, 'penalty': 'l2', 'solver': 'liblinear'}   \n",
       "\n",
       "   Accuracy  Precision    Recall  F1-Score       AUC          Confusion Matrix  \n",
       "0  0.756566   0.763291  0.757538  0.760404  0.824931  [[578, 187], [193, 603]]  \n",
       "1  0.748879   0.748768  0.763819  0.756219  0.827006  [[561, 204], [188, 608]]  \n",
       "2  0.800769   0.800496  0.811558  0.805989  0.876812  [[604, 161], [150, 646]]  \n",
       "3  0.605381   0.616580  0.597990  0.607143  0.643047  [[469, 296], [320, 476]]  "
      ]
     },
     "execution_count": 101,
     "metadata": {},
     "output_type": "execute_result"
    }
   ],
   "source": [
    "results_df"
   ]
  },
  {
   "cell_type": "code",
   "execution_count": 102,
   "metadata": {
    "colab": {
     "base_uri": "https://localhost:8080/"
    },
    "executionInfo": {
     "elapsed": 14667,
     "status": "ok",
     "timestamp": 1733008871973,
     "user": {
      "displayName": "Xingyu Gong",
      "userId": "09190398267093723546"
     },
     "user_tz": 300
    },
    "id": "R3r_S4Nnyg4x",
    "outputId": "305bc8d5-b105-473b-b318-ad4ec5a4bd8d"
   },
   "outputs": [
    {
     "name": "stdout",
     "output_type": "stream",
     "text": [
      "Epoch 1/20, Loss: 0.6609253117016384\n",
      "Epoch 2/20, Loss: 0.6328957506588527\n",
      "Epoch 3/20, Loss: 0.6133125813639894\n",
      "Epoch 4/20, Loss: 0.5947189673173184\n",
      "Epoch 5/20, Loss: 0.5749067103072089\n",
      "Epoch 6/20, Loss: 0.5500982329249382\n",
      "Epoch 7/20, Loss: 0.532802768659835\n",
      "Epoch 8/20, Loss: 0.5100183266462112\n",
      "Epoch 9/20, Loss: 0.48638025747270003\n",
      "Epoch 10/20, Loss: 0.467016016342202\n",
      "Epoch 11/20, Loss: 0.4473750679468622\n",
      "Epoch 12/20, Loss: 0.43369985782370274\n",
      "Epoch 13/20, Loss: 0.41606905782709314\n",
      "Epoch 14/20, Loss: 0.4076884055928308\n",
      "Epoch 15/20, Loss: 0.3848025399659361\n",
      "Epoch 16/20, Loss: 0.36783615955892873\n",
      "Epoch 17/20, Loss: 0.35419434578899217\n",
      "Epoch 18/20, Loss: 0.3400738504715264\n",
      "Epoch 19/20, Loss: 0.31930650713644465\n",
      "Epoch 20/20, Loss: 0.3101319942471324\n"
     ]
    }
   ],
   "source": [
    "import pandas as pd\n",
    "import torch\n",
    "import torch.nn as nn\n",
    "import torch.optim as optim\n",
    "from torch.utils.data import DataLoader, TensorDataset\n",
    "from sklearn.model_selection import train_test_split\n",
    "from sklearn.metrics import accuracy_score, precision_score, recall_score, f1_score, confusion_matrix, roc_auc_score\n",
    "import numpy as np\n",
    "\n",
    "# Convert to PyTorch tensors\n",
    "X_train_tensor = torch.tensor(X_train.values, dtype=torch.float32)\n",
    "X_test_tensor = torch.tensor(X_test.values, dtype=torch.float32)\n",
    "y_train_tensor = torch.tensor(y_train.values, dtype=torch.long)\n",
    "y_test_tensor = torch.tensor(y_test.values, dtype=torch.long)\n",
    "\n",
    "# Create DataLoader for training and testing\n",
    "train_data = TensorDataset(X_train_tensor, y_train_tensor)\n",
    "test_data = TensorDataset(X_test_tensor, y_test_tensor)\n",
    "\n",
    "train_loader = DataLoader(train_data, batch_size=32, shuffle=True)\n",
    "test_loader = DataLoader(test_data, batch_size=64, shuffle=False)\n",
    "\n",
    "# Define a simple neural network architecture\n",
    "class SimpleNN(nn.Module):\n",
    "    def __init__(self, input_dim):\n",
    "        super(SimpleNN, self).__init__()\n",
    "        self.layer1 = nn.Linear(input_dim, 128)\n",
    "        self.relu = nn.ReLU()\n",
    "        self.layer2 = nn.Linear(128, 64)\n",
    "        self.layer3 = nn.Linear(64, 2)  # Binary classification (2 output neurons: Positive or Negative)\n",
    "\n",
    "    def forward(self, x):\n",
    "        x = self.relu(self.layer1(x))\n",
    "        x = self.relu(self.layer2(x))\n",
    "        x = self.layer3(x)\n",
    "        return x\n",
    "\n",
    "# Initialize the model\n",
    "input_dim = X_train.shape[1]  # The number of features (embedding dimensions)\n",
    "model = SimpleNN(input_dim)\n",
    "\n",
    "# Define loss function and optimizer\n",
    "criterion = nn.CrossEntropyLoss()  # For binary classification\n",
    "optimizer = optim.Adam(model.parameters(), lr=0.001)\n",
    "\n",
    "# Hyperparameters (can be tuned)\n",
    "epochs = 20\n",
    "batch_size = 32\n",
    "learning_rate = 0.001\n",
    "\n",
    "# Dictionary to store best hyperparameters\n",
    "best_hyperparameters = {\n",
    "    \"epochs\": epochs,\n",
    "    \"batch_size\": batch_size,\n",
    "    \"learning_rate\": learning_rate\n",
    "}\n",
    "\n",
    "# Train the model\n",
    "for epoch in range(epochs):\n",
    "    model.train()\n",
    "    running_loss = 0.0\n",
    "    for inputs, labels in train_loader:\n",
    "        optimizer.zero_grad()\n",
    "        outputs = model(inputs)\n",
    "        loss = criterion(outputs, labels)\n",
    "        loss.backward()\n",
    "        optimizer.step()\n",
    "        running_loss += loss.item()\n",
    "\n",
    "    print(f'Epoch {epoch+1}/{epochs}, Loss: {running_loss/len(train_loader)}')\n",
    "\n",
    "# Evaluate the model\n",
    "model.eval()\n",
    "y_pred = []\n",
    "y_true = []\n",
    "y_prob = []  # To store predicted probabilities\n",
    "\n",
    "with torch.no_grad():\n",
    "    for inputs, labels in test_loader:\n",
    "        outputs = model(inputs)\n",
    "        _, predicted = torch.max(outputs, 1)  # Predicted class labels\n",
    "        y_pred.extend(predicted.numpy())\n",
    "        y_true.extend(labels.numpy())\n",
    "\n",
    "        # Get predicted probabilities for AUC calculation\n",
    "        prob = torch.softmax(outputs, dim=1)[:, 1]  # Get the probabilities for the positive class\n",
    "        y_prob.extend(prob.numpy())\n",
    "\n",
    "# Calculate metrics\n",
    "accuracy_nn = accuracy_score(y_true, y_pred)\n",
    "precision_nn = precision_score(y_true, y_pred)\n",
    "recall_nn = recall_score(y_true, y_pred)\n",
    "f1_nn = f1_score(y_true, y_pred)\n",
    "cm_nn = confusion_matrix(y_true, y_pred)\n",
    "auc_nn = roc_auc_score(y_true, y_prob)  # Calculate AUC\n",
    "\n",
    "# Add the results and best hyperparameters to the results_df\n",
    "results_df.loc[len(results_df)] = [\n",
    "    \"Simple Neural Network\",\n",
    "    best_hyperparameters,  # Store the hyperparameters\n",
    "    accuracy_nn,\n",
    "    precision_nn,\n",
    "    recall_nn,\n",
    "    f1_nn,\n",
    "    auc_nn,\n",
    "    cm_nn\n",
    "]"
   ]
  },
  {
   "cell_type": "code",
   "execution_count": 103,
   "metadata": {
    "colab": {
     "base_uri": "https://localhost:8080/"
    },
    "executionInfo": {
     "elapsed": 223,
     "status": "ok",
     "timestamp": 1733008883245,
     "user": {
      "displayName": "Xingyu Gong",
      "userId": "09190398267093723546"
     },
     "user_tz": 300
    },
    "id": "TzwLz6m9xAYd",
    "outputId": "f293d8cd-a826-4071-fa21-33a1024beed0"
   },
   "outputs": [
    {
     "name": "stdout",
     "output_type": "stream",
     "text": [
      "With Multimodality:\n",
      "+-----------------------+----------------------------------------------------------------------------------------+--------------------+--------------------+--------------------+--------------------+--------------------+------------------+\n",
      "|      Classifier       |                                  Best Hyperparameters                                  |      Accuracy      |     Precision      |       Recall       |      F1-Score      |        AUC         | Confusion Matrix |\n",
      "+-----------------------+----------------------------------------------------------------------------------------+--------------------+--------------------+--------------------+--------------------+--------------------+------------------+\n",
      "| CART (Decision Tree)  |           {'max_depth': 10, 'min_samples_leaf': 50, 'min_samples_split': 10}           | 0.7565663036515055 | 0.7632911392405063 | 0.757537688442211  | 0.7604035308953342 | 0.8249310276874569 |    [[578 187]    |\n",
      "|                       |                                                                                        |                    |                    |                    |                    |                    |    [193 603]]    |\n",
      "|     Random Forest     | {'max_depth': None, 'min_samples_leaf': 5, 'min_samples_split': 5, 'n_estimators': 50} | 0.7488789237668162 | 0.7487684729064039 | 0.7638190954773869 | 0.7562189054726368 | 0.8270059447564619 |    [[561 204]    |\n",
      "|                       |                                                                                        |                    |                    |                    |                    |                    |    [188 608]]    |\n",
      "|        XGBoost        |              {'learning_rate': 0.1, 'max_depth': 10, 'n_estimators': 100}              | 0.8007687379884689 | 0.8004956629491945 | 0.8115577889447236 | 0.8059887710542732 | 0.8768121654021743 |    [[604 161]    |\n",
      "|                       |                                                                                        |                    |                    |                    |                    |                    |    [150 646]]    |\n",
      "|  Logistic Regression  |                   {'C': 10, 'penalty': 'l2', 'solver': 'liblinear'}                    | 0.6053811659192825 | 0.616580310880829  | 0.5979899497487438 | 0.6071428571428571 | 0.6430469340164876 |    [[469 296]    |\n",
      "|                       |                                                                                        |                    |                    |                    |                    |                    |    [320 476]]    |\n",
      "| Simple Neural Network |                {'epochs': 20, 'batch_size': 32, 'learning_rate': 0.001}                | 0.7040358744394619 | 0.6843267108167771 | 0.7788944723618091 | 0.7285546415981199 | 0.7795431405392979 |    [[479 286]    |\n",
      "|                       |                                                                                        |                    |                    |                    |                    |                    |    [176 620]]    |\n",
      "+-----------------------+----------------------------------------------------------------------------------------+--------------------+--------------------+--------------------+--------------------+--------------------+------------------+\n"
     ]
    }
   ],
   "source": [
    "from tabulate import tabulate\n",
    "\n",
    "# Convert the results DataFrame to a pretty table format\n",
    "pretty_table = tabulate(results_df, headers='keys', tablefmt='pretty', showindex=False)\n",
    "\n",
    "# Print the pretty table\n",
    "print(\"With Multimodality:\")\n",
    "print(pretty_table)"
   ]
  },
  {
   "cell_type": "markdown",
   "metadata": {
    "id": "frStCtau0_G-"
   },
   "source": [
    "## Performance without embeddings"
   ]
  },
  {
   "cell_type": "code",
   "execution_count": 104,
   "metadata": {
    "executionInfo": {
     "elapsed": 105,
     "status": "ok",
     "timestamp": 1733010410775,
     "user": {
      "displayName": "Xingyu Gong",
      "userId": "09190398267093723546"
     },
     "user_tz": 300
    },
    "id": "zv7d0j6h1I0E"
   },
   "outputs": [],
   "source": [
    "combined_df_null=balanced_df.iloc[:, 50:]\n",
    "#print(combined_df_null.head)"
   ]
  },
  {
   "cell_type": "code",
   "execution_count": 109,
   "metadata": {
    "colab": {
     "base_uri": "https://localhost:8080/"
    },
    "executionInfo": {
     "elapsed": 486600,
     "status": "ok",
     "timestamp": 1733010899524,
     "user": {
      "displayName": "Xingyu Gong",
      "userId": "09190398267093723546"
     },
     "user_tz": 300
    },
    "id": "yYnukhaB1BPM",
    "outputId": "760a983d-90ed-49de-8d0c-f4cadc73878d"
   },
   "outputs": [
    {
     "name": "stdout",
     "output_type": "stream",
     "text": [
      "             Classifier                               Best Hyperparameters  \\\n",
      "0  CART (Decision Tree)  {'max_depth': 10, 'min_samples_leaf': 5, 'min_...   \n",
      "1         Random Forest  {'max_depth': None, 'min_samples_leaf': 10, 'm...   \n",
      "2               XGBoost  {'learning_rate': 0.1, 'max_depth': 5, 'n_esti...   \n",
      "3   Logistic Regression  {'C': 0.1, 'penalty': 'l2', 'solver': 'libline...   \n",
      "\n",
      "   Accuracy  Precision    Recall  F1-Score       AUC          Confusion Matrix  \n",
      "0  0.769379   0.782383  0.758794  0.770408  0.840158  [[597, 168], [192, 604]]  \n",
      "1  0.781550   0.781908  0.792714  0.787274  0.865415  [[589, 176], [165, 631]]  \n",
      "2  0.795003   0.806701  0.786432  0.796438  0.871418  [[615, 150], [170, 626]]  \n",
      "3  0.596413   0.602978  0.610553  0.606742  0.627009  [[445, 320], [310, 486]]  \n"
     ]
    }
   ],
   "source": [
    "import pandas as pd\n",
    "from sklearn.model_selection import train_test_split\n",
    "from sklearn.preprocessing import StandardScaler\n",
    "from sklearn.tree import DecisionTreeClassifier  # CART\n",
    "from sklearn.ensemble import RandomForestClassifier\n",
    "from sklearn.neural_network import MLPClassifier  # Neural Network\n",
    "from sklearn.linear_model import LogisticRegression  # Logistic Regression\n",
    "from sklearn.metrics import accuracy_score, precision_score, recall_score, f1_score, confusion_matrix\n",
    "import xgboost as xgb\n",
    "\n",
    "# Split features (X) and target (y)\n",
    "X = combined_df_null.drop(columns=['target'])\n",
    "y = combined_df_null['target']\n",
    "\n",
    "# Split the data into training and test sets (80% train, 20% test)\n",
    "X_train, X_test, y_train, y_test = train_test_split(X, y, test_size=0.2, random_state=42)\n",
    "\n",
    "# Define the classifiers and their respective hyperparameter grids\n",
    "classifiers = {\n",
    "    'CART (Decision Tree)': {\n",
    "        'model': DecisionTreeClassifier(),\n",
    "        'param_grid': {\n",
    "            'max_depth': [5, 10, 20, None],  # Reduced range\n",
    "            'min_samples_split': [5, 10, 20],  # Simplified\n",
    "            'min_samples_leaf': [5, 10, 50]  # Removed larger values\n",
    "        }\n",
    "    },\n",
    "    'Random Forest': {\n",
    "        'model': RandomForestClassifier(),\n",
    "        'param_grid': {\n",
    "            'n_estimators': [25, 50, 100],  # Focus on fewer trees\n",
    "            'max_depth': [5, 10, None],  # Reduced depth range\n",
    "            'min_samples_split': [10, 20],  # Simplified\n",
    "            'min_samples_leaf': [10, 20, 50]  # Removed larger values\n",
    "        }\n",
    "    },\n",
    "    'XGBoost': {\n",
    "        'model': xgb.XGBClassifier(eval_metric='mlogloss'),\n",
    "        'param_grid': {\n",
    "            'n_estimators': [25, 50, 100],  # Reduced\n",
    "            'max_depth': [3, 5],  # Focus on smaller depths for interpretability\n",
    "            'learning_rate': [0.01, 0.1]  # Removed extreme values\n",
    "        }\n",
    "    },\n",
    "    'Logistic Regression': {\n",
    "        'model': LogisticRegression(max_iter=500),\n",
    "        'param_grid': {\n",
    "            'C': [0.1, 1, 10],  # Kept the same\n",
    "            'solver': ['liblinear'],  # Removed 'saga' for simplicity\n",
    "            'penalty': ['l2']  # Kept the same\n",
    "        }\n",
    "    }\n",
    "}\n",
    "\n",
    "# Store results\n",
    "results = []\n",
    "\n",
    "# Perform GridSearchCV for each classifier\n",
    "for clf_name, clf_info in classifiers.items():\n",
    "    model = clf_info['model']\n",
    "    param_grid = clf_info['param_grid']\n",
    "\n",
    "    # Perform grid search to find the best hyperparameters\n",
    "    grid_search = GridSearchCV(model, param_grid, cv=5, scoring='accuracy', n_jobs=-1)\n",
    "    grid_search.fit(X_train, y_train)\n",
    "\n",
    "    # Get the best model from the grid search\n",
    "    best_model = grid_search.best_estimator_\n",
    "\n",
    "    # Make predictions using the best model\n",
    "    y_pred = best_model.predict(X_test)\n",
    "    y_prob = best_model.predict_proba(X_test)[:, 1]  # Get predicted probabilities for AUC calculation (for binary classification)\n",
    "\n",
    "    # Calculate metrics\n",
    "    accuracy = accuracy_score(y_test, y_pred)\n",
    "    precision = precision_score(y_test, y_pred)\n",
    "    recall = recall_score(y_test, y_pred)\n",
    "    f1 = f1_score(y_test, y_pred)\n",
    "    cm = confusion_matrix(y_test, y_pred)\n",
    "    auc = roc_auc_score(y_test, y_prob)  # Calculate AUC\n",
    "\n",
    "    # Store the results\n",
    "    results.append({\n",
    "        'Classifier': clf_name,\n",
    "        'Best Hyperparameters': grid_search.best_params_,\n",
    "        'Accuracy': accuracy,\n",
    "        'Precision': precision,\n",
    "        'Recall': recall,\n",
    "        'F1-Score': f1,\n",
    "        'AUC': auc,\n",
    "        'Confusion Matrix': cm\n",
    "    })\n",
    "\n",
    "# Convert results to a DataFrame\n",
    "results_df_null = pd.DataFrame(results)\n",
    "\n",
    "# Print the results\n",
    "print(results_df_null)"
   ]
  },
  {
   "cell_type": "code",
   "execution_count": 110,
   "metadata": {
    "colab": {
     "base_uri": "https://localhost:8080/"
    },
    "executionInfo": {
     "elapsed": 11390,
     "status": "ok",
     "timestamp": 1733010910910,
     "user": {
      "displayName": "Xingyu Gong",
      "userId": "09190398267093723546"
     },
     "user_tz": 300
    },
    "id": "PnFviewO1wB9",
    "outputId": "8f53df3d-cdb8-4c25-d905-7cf36cd188fe"
   },
   "outputs": [
    {
     "name": "stdout",
     "output_type": "stream",
     "text": [
      "Epoch 1/20, Loss: 0.6635016701659378\n",
      "Epoch 2/20, Loss: 0.6423742611493383\n",
      "Epoch 3/20, Loss: 0.628737635454353\n",
      "Epoch 4/20, Loss: 0.6145200107474716\n",
      "Epoch 5/20, Loss: 0.601011856782193\n",
      "Epoch 6/20, Loss: 0.5850621574387258\n",
      "Epoch 7/20, Loss: 0.5756817209173222\n",
      "Epoch 8/20, Loss: 0.5637412180705946\n",
      "Epoch 9/20, Loss: 0.5575388755117144\n",
      "Epoch 10/20, Loss: 0.5475594468262731\n",
      "Epoch 11/20, Loss: 0.539327685930291\n",
      "Epoch 12/20, Loss: 0.5320482062441962\n",
      "Epoch 13/20, Loss: 0.5228334482835264\n",
      "Epoch 14/20, Loss: 0.5174752070891614\n",
      "Epoch 15/20, Loss: 0.5109589565165189\n",
      "Epoch 16/20, Loss: 0.5079092758954787\n",
      "Epoch 17/20, Loss: 0.5028594832639305\n",
      "Epoch 18/20, Loss: 0.49389148153820817\n",
      "Epoch 19/20, Loss: 0.4879454082372237\n",
      "Epoch 20/20, Loss: 0.484138408485724\n"
     ]
    }
   ],
   "source": [
    "import pandas as pd\n",
    "import torch\n",
    "import torch.nn as nn\n",
    "import torch.optim as optim\n",
    "from torch.utils.data import DataLoader, TensorDataset\n",
    "from sklearn.model_selection import train_test_split\n",
    "from sklearn.metrics import accuracy_score, precision_score, recall_score, f1_score, confusion_matrix, roc_auc_score\n",
    "import numpy as np\n",
    "\n",
    "# Convert to PyTorch tensors\n",
    "X_train_tensor = torch.tensor(X_train.values, dtype=torch.float32)\n",
    "X_test_tensor = torch.tensor(X_test.values, dtype=torch.float32)\n",
    "y_train_tensor = torch.tensor(y_train.values, dtype=torch.long)\n",
    "y_test_tensor = torch.tensor(y_test.values, dtype=torch.long)\n",
    "\n",
    "# Create DataLoader for training and testing\n",
    "train_data = TensorDataset(X_train_tensor, y_train_tensor)\n",
    "test_data = TensorDataset(X_test_tensor, y_test_tensor)\n",
    "\n",
    "train_loader = DataLoader(train_data, batch_size=32, shuffle=True)\n",
    "test_loader = DataLoader(test_data, batch_size=64, shuffle=False)\n",
    "\n",
    "# Define a simple neural network architecture\n",
    "class SimpleNN(nn.Module):\n",
    "    def __init__(self, input_dim):\n",
    "        super(SimpleNN, self).__init__()\n",
    "        self.layer1 = nn.Linear(input_dim, 128)\n",
    "        self.relu = nn.ReLU()\n",
    "        self.layer2 = nn.Linear(128, 64)\n",
    "        self.layer3 = nn.Linear(64, 2)  # Binary classification (2 output neurons: Positive or Negative)\n",
    "\n",
    "    def forward(self, x):\n",
    "        x = self.relu(self.layer1(x))\n",
    "        x = self.relu(self.layer2(x))\n",
    "        x = self.layer3(x)\n",
    "        return x\n",
    "\n",
    "# Initialize the model\n",
    "input_dim = X_train.shape[1]  # The number of features (embedding dimensions)\n",
    "model = SimpleNN(input_dim)\n",
    "\n",
    "# Define loss function and optimizer\n",
    "criterion = nn.CrossEntropyLoss()  # For binary classification\n",
    "optimizer = optim.Adam(model.parameters(), lr=0.001)\n",
    "\n",
    "# Hyperparameters (can be tuned)\n",
    "epochs = 20\n",
    "batch_size = 32\n",
    "learning_rate = 0.001\n",
    "\n",
    "# Dictionary to store best hyperparameters\n",
    "best_hyperparameters = {\n",
    "    \"epochs\": epochs,\n",
    "    \"batch_size\": batch_size,\n",
    "    \"learning_rate\": learning_rate\n",
    "}\n",
    "\n",
    "# Train the model\n",
    "for epoch in range(epochs):\n",
    "    model.train()\n",
    "    running_loss = 0.0\n",
    "    for inputs, labels in train_loader:\n",
    "        optimizer.zero_grad()\n",
    "        outputs = model(inputs)\n",
    "        loss = criterion(outputs, labels)\n",
    "        loss.backward()\n",
    "        optimizer.step()\n",
    "        running_loss += loss.item()\n",
    "\n",
    "    print(f'Epoch {epoch+1}/{epochs}, Loss: {running_loss/len(train_loader)}')\n",
    "\n",
    "# Evaluate the model\n",
    "model.eval()\n",
    "y_pred = []\n",
    "y_true = []\n",
    "y_prob = []  # To store predicted probabilities\n",
    "\n",
    "with torch.no_grad():\n",
    "    for inputs, labels in test_loader:\n",
    "        outputs = model(inputs)\n",
    "        _, predicted = torch.max(outputs, 1)  # Predicted class labels\n",
    "        y_pred.extend(predicted.numpy())\n",
    "        y_true.extend(labels.numpy())\n",
    "\n",
    "        # Get predicted probabilities for AUC calculation\n",
    "        prob = torch.softmax(outputs, dim=1)[:, 1]  # Get the probabilities for the positive class\n",
    "        y_prob.extend(prob.numpy())\n",
    "\n",
    "# Calculate metrics\n",
    "accuracy_nn = accuracy_score(y_true, y_pred)\n",
    "precision_nn = precision_score(y_true, y_pred)\n",
    "recall_nn = recall_score(y_true, y_pred)\n",
    "f1_nn = f1_score(y_true, y_pred)\n",
    "cm_nn = confusion_matrix(y_true, y_pred)\n",
    "auc_nn = roc_auc_score(y_true, y_prob)  # Calculate AUC\n",
    "\n",
    "# Add the results and best hyperparameters to the results_df\n",
    "results_df_null.loc[len(results_df_null)] = [\n",
    "    \"Simple Neural Network\",\n",
    "    best_hyperparameters,  # Store the hyperparameters\n",
    "    accuracy_nn,\n",
    "    precision_nn,\n",
    "    recall_nn,\n",
    "    f1_nn,\n",
    "    auc_nn,\n",
    "    cm_nn\n",
    "]"
   ]
  },
  {
   "cell_type": "code",
   "execution_count": 111,
   "metadata": {
    "colab": {
     "base_uri": "https://localhost:8080/"
    },
    "executionInfo": {
     "elapsed": 60,
     "status": "ok",
     "timestamp": 1733010910911,
     "user": {
      "displayName": "Xingyu Gong",
      "userId": "09190398267093723546"
     },
     "user_tz": 300
    },
    "id": "3-Lofk5u1yGv",
    "outputId": "0d48167a-fe26-4640-f8a0-ee17c964ee11"
   },
   "outputs": [
    {
     "name": "stdout",
     "output_type": "stream",
     "text": [
      "Tabular Data Only:\n",
      "+-----------------------+------------------------------------------------------------------------------------------+--------------------+--------------------+--------------------+--------------------+--------------------+------------------+\n",
      "|      Classifier       |                                   Best Hyperparameters                                   |      Accuracy      |     Precision      |       Recall       |      F1-Score      |        AUC         | Confusion Matrix |\n",
      "+-----------------------+------------------------------------------------------------------------------------------+--------------------+--------------------+--------------------+--------------------+--------------------+------------------+\n",
      "| CART (Decision Tree)  |            {'max_depth': 10, 'min_samples_leaf': 5, 'min_samples_split': 20}             | 0.769378603459321  | 0.7823834196891192 | 0.7587939698492462 | 0.7704081632653061 | 0.8401583078792657 |    [[597 168]    |\n",
      "|                       |                                                                                          |                    |                    |                    |                    |                    |    [192 604]]    |\n",
      "|     Random Forest     | {'max_depth': None, 'min_samples_leaf': 10, 'min_samples_split': 20, 'n_estimators': 25} | 0.7815502882767457 | 0.781908302354399  | 0.792713567839196  | 0.7872738615096694 | 0.8654153118533845 |    [[589 176]    |\n",
      "|                       |                                                                                          |                    |                    |                    |                    |                    |    [165 631]]    |\n",
      "|        XGBoost        |               {'learning_rate': 0.1, 'max_depth': 5, 'n_estimators': 100}                | 0.795003203074952  | 0.8067010309278351 | 0.7864321608040201 | 0.7964376590330788 | 0.8714183663415115 |    [[615 150]    |\n",
      "|                       |                                                                                          |                    |                    |                    |                    |                    |    [170 626]]    |\n",
      "|  Logistic Regression  |                    {'C': 0.1, 'penalty': 'l2', 'solver': 'liblinear'}                    | 0.5964125560538116 | 0.6029776674937966 | 0.6105527638190955 | 0.6067415730337079 | 0.6270092291522974 |    [[445 320]    |\n",
      "|                       |                                                                                          |                    |                    |                    |                    |                    |    [310 486]]    |\n",
      "| Simple Neural Network |                 {'epochs': 20, 'batch_size': 32, 'learning_rate': 0.001}                 | 0.7245355541319667 | 0.7253694581280788 | 0.7399497487437185 | 0.7325870646766169 | 0.7928630078497061 |    [[542 223]    |\n",
      "|                       |                                                                                          |                    |                    |                    |                    |                    |    [207 589]]    |\n",
      "+-----------------------+------------------------------------------------------------------------------------------+--------------------+--------------------+--------------------+--------------------+--------------------+------------------+\n"
     ]
    }
   ],
   "source": [
    "from tabulate import tabulate\n",
    "\n",
    "# Convert the results DataFrame to a pretty table format\n",
    "pretty_table = tabulate(results_df_null, headers='keys', tablefmt='pretty', showindex=False)\n",
    "\n",
    "# Print the pretty table\n",
    "print(\"Tabular Data Only:\")\n",
    "print(pretty_table)"
   ]
  }
 ],
 "metadata": {
  "accelerator": "GPU",
  "colab": {
   "authorship_tag": "ABX9TyP4tm2nUYKYoB1Eg7ZS/sZ6",
   "gpuType": "T4",
   "provenance": []
  },
  "kernelspec": {
   "display_name": "Python 3",
   "name": "python3"
  },
  "language_info": {
   "codemirror_mode": {
    "name": "ipython",
    "version": 3
   },
   "file_extension": ".py",
   "mimetype": "text/x-python",
   "name": "python",
   "nbconvert_exporter": "python",
   "pygments_lexer": "ipython3",
   "version": "3.10.14"
  }
 },
 "nbformat": 4,
 "nbformat_minor": 0
}
